{
 "cells": [
  {
   "cell_type": "code",
   "execution_count": 2,
   "id": "5417e52a",
   "metadata": {},
   "outputs": [],
   "source": [
    "def contentbased(cust_id):\n",
    "    import pandas as pd\n",
    "    import numpy as np\n",
    "    import random\n",
    "    import sys\n",
    "    from itertools import chain\n",
    "    \n",
    "    orders = pd.read_csv(\"Pakistan Largest Ecommerce Dataset - Copy.csv\")\n",
    "\n",
    "# Dropping unnecessary columns\n",
    "    dataset = orders.drop(['sales_commission_code','discount_amount','increment_id','discount_amount','payment_method','Working Date','BI Status','MV','FY','created_at'],axis=1)\n",
    "\n",
    "# Finding out number of missing enteries in each column\n",
    "    missing = dataset.isna().sum()\n",
    "    missing\n",
    "\n",
    "# Dropping these enteries and again finding the number of missing columns which should be 0.\n",
    "    dataset = dataset.dropna()\n",
    "    missing = dataset.isna().sum()\n",
    "    missing\n",
    "\n",
    "# mMaking the dataset smaller\n",
    "    dataset = dataset[:1000]\n",
    "    dataset\n",
    "\n",
    "# Finding number of customers\n",
    "    unique = dataset['Customer ID'].nunique()\n",
    "    unique\n",
    "\n",
    "# Creating a list of users\n",
    "    users = pd.DataFrame(dataset['Customer ID'])\n",
    "    users\n",
    "\n",
    "    unique = users['Customer ID'].nunique()\n",
    "    unique\n",
    "\n",
    "# Dataset after pre-processing\n",
    "    dataset\n",
    "\n",
    "# Creating a new dataset called \"items\" with columns 'item_id' and 'sku' and also adding random ratings to it.\n",
    "    items = dataset.loc[:, ['item_id', 'sku']]\n",
    "    items['rating'] = np.random.uniform(low=1.0, high=5.0, size=len(items))\n",
    "    items\n",
    "\n",
    "# Finding unique items in the dataset and adding to another dataframe object \"unique_items\" with number of sales\n",
    "    unique_items = dataset.groupby('sku').size().reset_index(name='count')\n",
    "    unique_items\n",
    "\n",
    "    items\n",
    "\n",
    "# Creating another dataframe object \"categories\"\n",
    "    categories = pd.DataFrame(dataset['category_name_1'].unique(), columns=['Category'])\n",
    "\n",
    "    categories\n",
    "\n",
    "# Creating another dataframe object and listing all the items in the category\n",
    "    category_items = pd.DataFrame(dataset.groupby('category_name_1')['item_id'].apply(list)).reset_index()\n",
    "    category_items\n",
    "\n",
    "# Content Based Recommendation System\n",
    "\n",
    "# Group dataset by customer ID and aggregate category names\n",
    "    interests = pd.DataFrame(dataset.groupby('Customer ID')['category_name_1'].apply(list)).reset_index()\n",
    "    interests\n",
    "\n",
    "# Removing same enteries from the list category_name_1\n",
    "\n",
    "    interests['category_name_1'] = interests['category_name_1'].apply(lambda x: list(set(x)))\n",
    "    interests['category_name_1']\n",
    "\n",
    "\n",
    "\n",
    "# Performing SKU extraction based on customer interests\n",
    "\n",
    "    interests['item_id'] = interests['category_name_1'].apply(lambda x: category_items[category_items['category_name_1'].isin(x)]['item_id'].head(3).tolist())\n",
    "    rs_df = interests.groupby('Customer ID')['item_id'].apply(list).reset_index()\n",
    "    rs_df\n",
    "    rs_df[rs_df['Customer ID']==cust_id].item_id\n",
    "# res = [int(x) for x in str(rs_df[rs_df['Customer ID']==2].item_id.values.tolist()[0][0][0][0])]\n",
    "    new_rs = rs_df[rs_df['Customer ID']==cust_id].item_id.values.tolist()[0][0][0]\n",
    "    new_rs = list(set(new_rs))\n",
    "    return(new_rs)"
   ]
  },
  {
   "cell_type": "code",
   "execution_count": 4,
   "id": "01a8a373",
   "metadata": {},
   "outputs": [
    {
     "data": {
      "text/plain": [
       "['chiycztj7QLqfFPqJQ1L',\n",
       " 'ZlYFf7YglR8omA64NSe9',\n",
       " 'sPs6i8D7sPNpXSB3RDGx',\n",
       " 'ZHlKJBDEDeZqb7UEx86X',\n",
       " 'e9UqwvKnVkElSBueY274']"
      ]
     },
     "execution_count": 4,
     "metadata": {},
     "output_type": "execute_result"
    }
   ],
   "source": [
    "contentbased(\"qcZPrTf6EihIZf9FVZJODSK7zS03\")"
   ]
  },
  {
   "cell_type": "code",
   "execution_count": null,
   "id": "f4eb0572",
   "metadata": {},
   "outputs": [],
   "source": []
  }
 ],
 "metadata": {
  "kernelspec": {
   "display_name": "Python 3 (ipykernel)",
   "language": "python",
   "name": "python3"
  },
  "language_info": {
   "codemirror_mode": {
    "name": "ipython",
    "version": 3
   },
   "file_extension": ".py",
   "mimetype": "text/x-python",
   "name": "python",
   "nbconvert_exporter": "python",
   "pygments_lexer": "ipython3",
   "version": "3.10.9"
  }
 },
 "nbformat": 4,
 "nbformat_minor": 5
}
